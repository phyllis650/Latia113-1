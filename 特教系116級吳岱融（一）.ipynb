{
  "nbformat": 4,
  "nbformat_minor": 0,
  "metadata": {
    "colab": {
      "provenance": [],
      "gpuType": "T4"
    },
    "kernelspec": {
      "name": "python3",
      "display_name": "Python 3"
    },
    "language_info": {
      "name": "python"
    },
    "accelerator": "GPU"
  },
  "cells": [
    {
      "cell_type": "markdown",
      "source": [
        "The following is what I've learned and practiced in Week 3:"
      ],
      "metadata": {
        "id": "6gm3YylToEWp"
      }
    },
    {
      "cell_type": "code",
      "execution_count": null,
      "metadata": {
        "colab": {
          "base_uri": "https://localhost:8080/"
        },
        "id": "v_K-mbfBQHZv",
        "outputId": "ed4b91de-f7de-4d4e-f567-78c20780d3d9"
      },
      "outputs": [
        {
          "output_type": "stream",
          "name": "stdout",
          "text": [
            "Hello World\n"
          ]
        }
      ],
      "source": [
        "print('Hello World')"
      ]
    },
    {
      "cell_type": "code",
      "source": [
        "a=2\n",
        "b=c=a\n",
        "print(a)\n",
        "print(b)\n",
        "print(c)"
      ],
      "metadata": {
        "colab": {
          "base_uri": "https://localhost:8080/"
        },
        "id": "pifiZSjeSSoM",
        "outputId": "5095bfaa-67a6-44fe-dc72-7686a0dc7078"
      },
      "execution_count": null,
      "outputs": [
        {
          "output_type": "stream",
          "name": "stdout",
          "text": [
            "2\n",
            "2\n",
            "2\n"
          ]
        }
      ]
    },
    {
      "cell_type": "code",
      "source": [
        "a = '''My name is Phyllis'''\n",
        "print(a)"
      ],
      "metadata": {
        "colab": {
          "base_uri": "https://localhost:8080/"
        },
        "id": "UgPgGkaVUrl7",
        "outputId": "0c3fbc15-827f-46ff-98c1-7ad58dc1a0d7"
      },
      "execution_count": null,
      "outputs": [
        {
          "output_type": "stream",
          "name": "stdout",
          "text": [
            "My name is Phyllis\n"
          ]
        }
      ]
    },
    {
      "cell_type": "code",
      "source": [
        "a='0123456789abcdef'\n",
        "print(a[3])"
      ],
      "metadata": {
        "colab": {
          "base_uri": "https://localhost:8080/"
        },
        "id": "pYPu-oi0U7ci",
        "outputId": "9dea9456-8dd0-4876-9e8f-0e0f0c8b5292"
      },
      "execution_count": null,
      "outputs": [
        {
          "output_type": "stream",
          "name": "stdout",
          "text": [
            "3\n"
          ]
        }
      ]
    },
    {
      "cell_type": "code",
      "source": [
        "print(a[8])"
      ],
      "metadata": {
        "colab": {
          "base_uri": "https://localhost:8080/"
        },
        "id": "JXyxFlpnVYF2",
        "outputId": "2571e4c5-02b5-4152-de56-24280d9ba939"
      },
      "execution_count": null,
      "outputs": [
        {
          "output_type": "stream",
          "name": "stdout",
          "text": [
            "8\n"
          ]
        }
      ]
    },
    {
      "cell_type": "code",
      "source": [
        "print(a[:])"
      ],
      "metadata": {
        "colab": {
          "base_uri": "https://localhost:8080/"
        },
        "id": "aYoVEFMrWpXJ",
        "outputId": "18e057d3-8de7-4ae6-e403-a03830f2b2f4"
      },
      "execution_count": null,
      "outputs": [
        {
          "output_type": "stream",
          "name": "stdout",
          "text": [
            "0123456789abcdef\n"
          ]
        }
      ]
    },
    {
      "cell_type": "code",
      "source": [
        "a = 'Hello World'\n",
        "print(len(a))"
      ],
      "metadata": {
        "colab": {
          "base_uri": "https://localhost:8080/"
        },
        "id": "mJaLvueuW0T7",
        "outputId": "0a4716de-ed1b-465a-f1fd-2e87a1188bf5"
      },
      "execution_count": null,
      "outputs": [
        {
          "output_type": "stream",
          "name": "stdout",
          "text": [
            "11\n"
          ]
        }
      ]
    },
    {
      "cell_type": "code",
      "source": [
        "a = ['apple','banana','orange']\n",
        "b = [1,2,3,4,5]\n",
        "c = ['apple',1,2,3,['dog','cat']]\n",
        "d = list('apple')\n",
        "print(a)\n",
        "print(b)\n",
        "print(c)\n",
        "print(d)"
      ],
      "metadata": {
        "colab": {
          "base_uri": "https://localhost:8080/"
        },
        "id": "cGZiAkRxbmXX",
        "outputId": "2a0512a7-abf2-439d-f1cf-9c30468f980f"
      },
      "execution_count": null,
      "outputs": [
        {
          "output_type": "stream",
          "name": "stdout",
          "text": [
            "['apple', 'banana', 'orange']\n",
            "[1, 2, 3, 4, 5]\n",
            "['apple', 1, 2, 3, ['dog', 'cat']]\n",
            "['a', 'p', 'p', 'l', 'e']\n"
          ]
        }
      ]
    },
    {
      "cell_type": "code",
      "source": [
        "t = ('apple', 'banana', 'orange', 'grape')\n",
        "a, b, c, d = t\n",
        "print(a)\n",
        "print(b)\n",
        "print(c)\n",
        "print(d)"
      ],
      "metadata": {
        "colab": {
          "base_uri": "https://localhost:8080/"
        },
        "id": "IBkXlKL-eUUN",
        "outputId": "805a4d5f-7d5d-4c1d-ad6b-964a17728f26"
      },
      "execution_count": null,
      "outputs": [
        {
          "output_type": "stream",
          "name": "stdout",
          "text": [
            "apple\n",
            "banana\n",
            "orange\n",
            "grape\n"
          ]
        }
      ]
    },
    {
      "cell_type": "code",
      "source": [
        "a = dict(name='oxxo', age=18, eat=['apple','banana'])\n",
        "print(a)\n",
        "print(type(a))"
      ],
      "metadata": {
        "colab": {
          "base_uri": "https://localhost:8080/"
        },
        "id": "cQ0RYG03e9lQ",
        "outputId": "a8b443ea-bcfd-4997-8ec0-ed834bd7de4a"
      },
      "execution_count": null,
      "outputs": [
        {
          "output_type": "stream",
          "name": "stdout",
          "text": [
            "{'name': 'oxxo', 'age': 18, 'eat': ['apple', 'banana']}\n",
            "<class 'dict'>\n"
          ]
        }
      ]
    },
    {
      "cell_type": "code",
      "source": [
        "a = set()\n",
        "b = set([1,2,3,4,5,1,2,3,4,5])\n",
        "c = set({'x':1,'y':2,'z':3})\n",
        "d = set('hello')\n",
        "print(a)\n",
        "print(b)\n",
        "print(c)\n",
        "print(d)"
      ],
      "metadata": {
        "colab": {
          "base_uri": "https://localhost:8080/"
        },
        "id": "yv_2uDNKu65j",
        "outputId": "8b2c4393-9b82-4361-d015-cd044c4e53a5"
      },
      "execution_count": 39,
      "outputs": [
        {
          "output_type": "stream",
          "name": "stdout",
          "text": [
            "set()\n",
            "{1, 2, 3, 4, 5}\n",
            "{'x', 'z', 'y'}\n",
            "{'e', 'l', 'h', 'o'}\n"
          ]
        }
      ]
    },
    {
      "cell_type": "code",
      "source": [
        "a = 2\n",
        "b = 3\n",
        "if a>b:\n",
        "  print('hello')\n",
        "print('ok')"
      ],
      "metadata": {
        "colab": {
          "base_uri": "https://localhost:8080/"
        },
        "id": "CjEhevmeoZJW",
        "outputId": "f016b2ac-c313-4609-90a1-ced2ff45ea67"
      },
      "execution_count": null,
      "outputs": [
        {
          "output_type": "stream",
          "name": "stdout",
          "text": [
            "ok\n"
          ]
        }
      ]
    },
    {
      "cell_type": "code",
      "source": [
        "a = 6\n",
        "b = 4\n",
        "if a>b:\n",
        "  print('hello')\n",
        "print('ok')"
      ],
      "metadata": {
        "colab": {
          "base_uri": "https://localhost:8080/"
        },
        "id": "Szc7v3Mfp6ib",
        "outputId": "43cbdb83-87e1-4537-fdc0-6109f4ba6071"
      },
      "execution_count": null,
      "outputs": [
        {
          "output_type": "stream",
          "name": "stdout",
          "text": [
            "hello\n",
            "ok\n"
          ]
        }
      ]
    },
    {
      "cell_type": "code",
      "source": [
        "a = 2\n",
        "b = 3\n",
        "if a>b:\n",
        "  print('hello')\n",
        "else:\n",
        "  print('world')\n",
        "print('ok')"
      ],
      "metadata": {
        "colab": {
          "base_uri": "https://localhost:8080/"
        },
        "id": "Gy08scasqenC",
        "outputId": "c10640c7-401b-4910-ff8a-f9db95863c35"
      },
      "execution_count": null,
      "outputs": [
        {
          "output_type": "stream",
          "name": "stdout",
          "text": [
            "world\n",
            "ok\n"
          ]
        }
      ]
    },
    {
      "cell_type": "code",
      "source": [
        "a = 3\n",
        "b = 2\n",
        "if a>b:\n",
        "  print('hello')\n",
        "else:\n",
        "  print('world')\n",
        "print('ok')"
      ],
      "metadata": {
        "colab": {
          "base_uri": "https://localhost:8080/"
        },
        "id": "4Xyo_fuTqw-R",
        "outputId": "7fe50f40-37fa-41dd-e7bc-95ba41bcf9c9"
      },
      "execution_count": null,
      "outputs": [
        {
          "output_type": "stream",
          "name": "stdout",
          "text": [
            "hello\n",
            "ok\n"
          ]
        }
      ]
    },
    {
      "cell_type": "code",
      "source": [
        "from re import I\n",
        "a = 2\n",
        "b = 3\n",
        "if a<b:\n",
        "  print('a<b')\n",
        "  if a==1:\n",
        "    print('a=1')\n",
        "  elif a==2:\n",
        "    print('a=2')\n",
        "  elif a==3:\n",
        "    print('a=3')\n",
        "elif a>b:\n",
        "  print('a>b')\n",
        "else:\n",
        "  print('a=b')\n",
        "print('hello')"
      ],
      "metadata": {
        "colab": {
          "base_uri": "https://localhost:8080/"
        },
        "id": "-4j-zz1GrGDP",
        "outputId": "440960f6-f9da-4fdc-cb5a-f53504206005"
      },
      "execution_count": null,
      "outputs": [
        {
          "output_type": "stream",
          "name": "stdout",
          "text": [
            "a<b\n",
            "a=2\n",
            "hello\n"
          ]
        }
      ]
    },
    {
      "cell_type": "code",
      "source": [
        "a = 2\n",
        "b = 3\n",
        "c = 0\n",
        "if a>b or a<c and a==2 or b==4:\n",
        "  print('hello')\n",
        "else:\n",
        "  print('world')"
      ],
      "metadata": {
        "id": "Woh7xsi_tfw9",
        "colab": {
          "base_uri": "https://localhost:8080/"
        },
        "outputId": "918a4d4a-2c10-435b-a8d6-6eb2c901c693"
      },
      "execution_count": 35,
      "outputs": [
        {
          "output_type": "stream",
          "name": "stdout",
          "text": [
            "world\n"
          ]
        }
      ]
    },
    {
      "cell_type": "code",
      "source": [
        "for i in 'abc':\n",
        "  print(i)"
      ],
      "metadata": {
        "id": "YAgvz9V4sY1Y",
        "colab": {
          "base_uri": "https://localhost:8080/"
        },
        "outputId": "3f91e2ed-35dc-4360-fa1e-ec33697d3707"
      },
      "execution_count": 38,
      "outputs": [
        {
          "output_type": "stream",
          "name": "stdout",
          "text": [
            "a\n",
            "b\n",
            "c\n"
          ]
        }
      ]
    },
    {
      "cell_type": "code",
      "source": [
        "a = input('輸入數字')\n",
        "print(int(a) + 1)\n",
        "print('hello')\n",
        "try:\n",
        "    a = input('輸入數字：')\n",
        "    print(int(a) + 1)\n",
        "except:\n",
        "    pass\n",
        "print('hello')"
      ],
      "metadata": {
        "colab": {
          "base_uri": "https://localhost:8080/"
        },
        "id": "Oqn8OTr7w--p",
        "outputId": "4d740b4e-f173-48e6-c41a-e9279caaf6cd"
      },
      "execution_count": null,
      "outputs": [
        {
          "output_type": "stream",
          "name": "stdout",
          "text": [
            "輸入數字3\n",
            "4\n",
            "hello\n"
          ]
        }
      ]
    }
  ]
}